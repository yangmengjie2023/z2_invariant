{
 "cells": [
  {
   "cell_type": "markdown",
   "metadata": {},
   "source": [
    "Topological insulator is characterized by $Z_2$ invariant defined as $Z_2$ invariant\n",
    "$$\n",
    "Z_2=\\sum_n^{o c c .} \\frac{1}{2 \\pi}\\left(\\oint_{\\text {Half } \\mathrm{BZ}} \\mathbf{A}_n \\cdot d \\mathbf{k}-\\int_{\\text {Half } \\mathrm{BZ}} d k_x d k_y F_n\\right)=0 \\operatorname{or} 1 (\\bmod 2)\n",
    "$$\n",
    "$Z_2=0$ corresponds to a trivial state and\n",
    "$Z_2=1$ corresponds to a topological insulator state."
   ]
  },
  {
   "cell_type": "code",
   "execution_count": 51,
   "metadata": {},
   "outputs": [],
   "source": [
    "import numpy as np"
   ]
  },
  {
   "cell_type": "code",
   "execution_count": 52,
   "metadata": {},
   "outputs": [],
   "source": [
    "def QWZ_hamiltonian(kx, ky, t, m):\n",
    "    \"\"\"\n",
    "    QWZ model Hamiltonian (2 x 2).\n",
    "    kx, ky: momentum components\n",
    "    t: hopping amplitude\n",
    "    m: mass term\n",
    "    \"\"\"\n",
    "    sigma_x = np.array([[0, 1], \n",
    "                        [1, 0]], dtype=complex)\n",
    "    sigma_y = np.array([[0, -1j], \n",
    "                        [1j,  0]], dtype=complex)\n",
    "    sigma_z = np.array([[1,  0], \n",
    "                        [0, -1]], dtype=complex)\n",
    "    \n",
    "    # 对应系数\n",
    "    Hy = t * np.sin(kx)           # 系数乘 sigma_x\n",
    "    Hz = t * np.sin(ky)           # 系数乘 sigma_y\n",
    "    Hx = m + t * np.cos(kx) + t * np.cos(ky)  # 系数乘 sigma_z\n",
    "\n",
    "    # 构造 2x2 哈密顿量\n",
    "    H = Hx * sigma_x + Hy * sigma_y + Hz * sigma_z\n",
    "    return H"
   ]
  },
  {
   "cell_type": "code",
   "execution_count": 91,
   "metadata": {},
   "outputs": [],
   "source": [
    "def QWZ2layer_tri_hamiltonian(kx, ky):\n",
    "    \"\"\"\n",
    "    Example placeholder for a time-reversal-invariant (TRI) 2D Hamiltonian.\n",
    "    Must return a (2n x 2n) Hermitian matrix, e.g. a spinful 2-band model => 4x4.\n",
    "    \"\"\"\n",
    "    # --- Replace with your actual model (e.g. Kane-Mele, BHZ, etc.) ---\n",
    "    \n",
    "    # For demonstration, return a 2-layer QWZ model\n",
    "    H1 = QWZ_hamiltonian(kx, ky, t=1, m=1)\n",
    "    H2 = QWZ_hamiltonian(kx, ky, t=1, m=-1)\n",
    "    H = np.zeros((4, 4), dtype=complex)\n",
    "    H[:2, :2] = H1\n",
    "    H[2:, 2:] = H2\n",
    "    H[:2,2:] = np.eye(2) * 0.1\n",
    "    H[2:,:2] = np.eye(2) * 0.1\n",
    "    # ----------------------------------------------------------------\n",
    "    \n",
    "    return H\n",
    "\n",
    "def get_occupied_subspace(H, n_occ):\n",
    "    \"\"\"\n",
    "    Diagonalize H and return the subspace (2n x n_occ) of the lowest n_occ eigenstates.\n",
    "    \"\"\"\n",
    "    vals, vecs = np.linalg.eig(H)\n",
    "    idx = np.argsort(vals.real)\n",
    "    return vecs[:, idx[:n_occ]]  # columns = occupied eigenvectors\n",
    "\n",
    "def overlap_det(U1, U2):\n",
    "    \"\"\"\n",
    "    Compute the determinant of the overlap matrix between two subspaces U1, U2.\n",
    "    U1, U2: (2n x n_occ) each.\n",
    "    Overlap matrix O = U1^dagger * U2 => (n_occ x n_occ).\n",
    "    \"\"\"\n",
    "    O = np.dot(np.conjugate(U1.T), U2)\n",
    "    return np.linalg.det(O)\n",
    "\n",
    "def z2_invariant_fukui(hamiltonian, Nk=80, n_occ=4):\n",
    "    \"\"\"\n",
    "    Compute the Z2 invariant using a Fukui-Hatsugai-like approach.\n",
    "    We take kx in [0, 2pi], ky in [0, pi].\n",
    "    \n",
    "    Nk: number of points in the kx direction.\n",
    "        We will use Nk//2 points in the ky direction.\n",
    "    n_occ: number of occupied states (e.g., 2 for one Kramers pair, 4 for two pairs, etc.)\n",
    "    \n",
    "    Returns 0 or 1 (the Z2 index).\n",
    "    \"\"\"\n",
    "    dx = 2.0 * np.pi / Nk        # step in kx\n",
    "    dy = np.pi / (Nk // 2)       # step in ky\n",
    "    \n",
    "    total_flux = 0.0\n",
    "    \n",
    "    for i in range(Nk):\n",
    "        for j in range(Nk // 2):\n",
    "            kx = i * dx\n",
    "            ky = j * dy\n",
    "            \n",
    "            # Occupied subspaces at corners of the plaquette\n",
    "            U1 = get_occupied_subspace(hamiltonian(kx,        ky),        n_occ)\n",
    "            U2 = get_occupied_subspace(hamiltonian(kx + dx,   ky),        n_occ)\n",
    "            U3 = get_occupied_subspace(hamiltonian(kx + dx,   ky + dy),   n_occ)\n",
    "            U4 = get_occupied_subspace(hamiltonian(kx,        ky + dy),   n_occ)\n",
    "            \n",
    "            # Determinants of overlap matrices\n",
    "            U12 = overlap_det(U1, U2)\n",
    "            U23 = overlap_det(U2, U3)\n",
    "            U34 = overlap_det(U3, U4)\n",
    "            U41 = overlap_det(U4, U1)\n",
    "            \n",
    "            # Discrete Berry curvature for this plaquette\n",
    "            prod = U12 * U23 * U34 * U41\n",
    "            flux = -np.angle(prod) + np.angle(U12) + np.angle(U23) + np.angle(U34) + np.angle(U41)\n",
    "            \n",
    "            total_flux += flux\n",
    "            \n",
    "    \n",
    "    # Normalize by 2*pi to get an integer => take mod 2 for the Z2 index\n",
    "    z2_raw = total_flux / (2.0 * np.pi)\n",
    "    z2_value = int(round(z2_raw)) % 2\n",
    "    \n",
    "    return z2_value, z2_raw\n"
   ]
  },
  {
   "cell_type": "code",
   "execution_count": 86,
   "metadata": {},
   "outputs": [
    {
     "name": "stdout",
     "output_type": "stream",
     "text": [
      "Z2 invariant = 1\n",
      "Raw flux = -1.0\n"
     ]
    }
   ],
   "source": [
    "if __name__ == \"__main__\":\n",
    "    # Example usage:\n",
    "    # Suppose a 4x4 Hamiltonian with 2 occupied states (n_occ=2).\n",
    "    Nk = 80  # kx steps; ky steps = Nk//2\n",
    "    z2, z2_raw = z2_invariant_fukui(QWZ2layer_tri_hamiltonian, Nk=Nk, n_occ=2)\n",
    "    print(\"Z2 invariant =\", z2)\n",
    "    print(\"Raw flux =\", z2_raw)"
   ]
  },
  {
   "cell_type": "code",
   "execution_count": 100,
   "metadata": {},
   "outputs": [],
   "source": [
    "def QWZ4layer_tri_hamiltonian(kx, ky):\n",
    "    \"\"\"\n",
    "    Example placeholder for a time-reversal-invariant (TRI) 2D Hamiltonian.\n",
    "    Must return a (2n x 2n) Hermitian matrix, here let me build a 8x8 model, which corresponds to 4 layers of QWZ model. \\\n",
    "    \"\"\"\n",
    "    \n",
    "    H1 = QWZ_hamiltonian(kx, ky, t=1, m=1)\n",
    "    H2 = QWZ_hamiltonian(kx, ky, t=1, m=1)\n",
    "    H3 = QWZ_hamiltonian(kx, ky, t=1, m=-1)\n",
    "    H4 = QWZ_hamiltonian(kx, ky, t=1, m=-1)\n",
    "    H = np.zeros((8, 8), dtype=complex)\n",
    "    H[:2, :2] = H1\n",
    "    H[2:4, 2:4] = H2\n",
    "    H[4:6, 4:6] = H3\n",
    "    H[6:, 6:] = H4\n",
    "    \n",
    "    # only connect opopsite m layers\n",
    "    delta = 0.6\n",
    "    H[:2, 4:6] = np.eye(2) * delta\n",
    "    H[2:4, 6:] = np.eye(2) * delta\n",
    "    H[:2, 6:8] = np.eye(2) * delta\n",
    "    H[6:8, :2] = np.eye(2) * delta\n",
    "    H[2:4, 4:6] = np.eye(2) * delta\n",
    "    H[4:6, 2:4] = np.eye(2) * delta\n",
    "    H[2:4, 6:8] = np.eye(2) * delta\n",
    "    H[6:8, 2:4] = np.eye(2) * delta\n",
    "    \n",
    "    # ----------------------------------------------------------------\n",
    "    \n",
    "    return H"
   ]
  },
  {
   "cell_type": "code",
   "execution_count": 101,
   "metadata": {},
   "outputs": [
    {
     "name": "stdout",
     "output_type": "stream",
     "text": [
      "Z2 invariant = 1\n",
      "Raw flux = -0.9999999999999927\n"
     ]
    }
   ],
   "source": [
    "if __name__ == \"__main__\":\n",
    "    Nk = 80  # kx steps; ky steps = Nk//2\n",
    "    z2, z2_raw = z2_invariant_fukui(QWZ4layer_tri_hamiltonian, Nk=Nk, n_occ=4)\n",
    "    print(\"Z2 invariant =\", z2)\n",
    "    print(\"Raw flux =\", z2_raw)"
   ]
  },
  {
   "cell_type": "code",
   "execution_count": null,
   "metadata": {},
   "outputs": [],
   "source": []
  }
 ],
 "metadata": {
  "kernelspec": {
   "display_name": "Python 3",
   "language": "python",
   "name": "python3"
  },
  "language_info": {
   "codemirror_mode": {
    "name": "ipython",
    "version": 3
   },
   "file_extension": ".py",
   "mimetype": "text/x-python",
   "name": "python",
   "nbconvert_exporter": "python",
   "pygments_lexer": "ipython3",
   "version": "3.12.1"
  }
 },
 "nbformat": 4,
 "nbformat_minor": 2
}
